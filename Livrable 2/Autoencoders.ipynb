{
 "cells": [
  {
   "cell_type": "code",
   "execution_count": 1,
   "id": "c43fccc5",
   "metadata": {},
   "outputs": [],
   "source": [
    "import numpy as np\n",
    "import pandas as pd\n",
    "import seaborn as sns\n",
    "import matplotlib.pyplot as plt\n",
    "import os\n",
    "import tensorflow as tf\n",
    "\n",
    "%matplotlib inline"
   ]
  },
  {
   "cell_type": "code",
   "execution_count": 3,
   "id": "ebb45cd0",
   "metadata": {},
   "outputs": [],
   "source": [
    "BATCH_SIZE = 16\n",
    "IMAGE_HEIGHT = 256\n",
    "IMAGE_WIDTH = 256\n",
    "VALIDATION_SPLIT = 0.2\n",
    "EPOCHS = 2\n",
    "STEPS_PER_EPOCH = 1000"
   ]
  },
  {
   "cell_type": "code",
   "execution_count": 6,
   "id": "e53c16b6",
   "metadata": {},
   "outputs": [],
   "source": [
    "PATH_DATASET = os.path.join('D:\\\\binary')\n",
    "PATH_SAVE_MODEL = os.path.join('D:\\\\tmp')"
   ]
  },
  {
   "cell_type": "code",
   "execution_count": 7,
   "id": "a822f4ec",
   "metadata": {},
   "outputs": [
    {
     "name": "stdout",
     "output_type": "stream",
     "text": [
      "Found 11406 files belonging to 2 classes.\n",
      "Using 9125 files for training.\n",
      "Found 11406 files belonging to 2 classes.\n",
      "Using 2281 files for validation.\n",
      "Le dataset comporte 2 classes : ['Photo', 'Sketch']\n"
     ]
    }
   ],
   "source": [
    "dataset_train = tf.keras.preprocessing.image_dataset_from_directory (\n",
    "    PATH_DATASET,\n",
    "    image_size = (IMAGE_HEIGHT, IMAGE_WIDTH),\n",
    "    validation_split = VALIDATION_SPLIT,\n",
    "    batch_size = BATCH_SIZE,\n",
    "    seed = 42,\n",
    "    subset = 'training',\n",
    ")\n",
    "\n",
    "dataset_test = tf.keras.preprocessing.image_dataset_from_directory (\n",
    "    PATH_DATASET,\n",
    "    image_size = (IMAGE_HEIGHT, IMAGE_WIDTH),\n",
    "    validation_split = VALIDATION_SPLIT,\n",
    "    batch_size = BATCH_SIZE,\n",
    "    seed = 42,\n",
    "    subset = 'validation',\n",
    ")\n",
    "\n",
    "CLASSES = dataset_train.class_names\n",
    "NB_CLASSES = len(dataset_train.class_names)\n",
    "print(f'Le dataset comporte {NB_CLASSES} classes : {CLASSES}')"
   ]
  },
  {
   "cell_type": "code",
   "execution_count": 8,
   "id": "dde7a69c",
   "metadata": {},
   "outputs": [
    {
     "ename": "AttributeError",
     "evalue": "'str' object has no attribute 'head'",
     "output_type": "error",
     "traceback": [
      "\u001b[1;31m---------------------------------------------------------------------------\u001b[0m",
      "\u001b[1;31mAttributeError\u001b[0m                            Traceback (most recent call last)",
      "\u001b[1;32m~\\AppData\\Local\\Temp/ipykernel_18228/292484051.py\u001b[0m in \u001b[0;36m<module>\u001b[1;34m\u001b[0m\n\u001b[1;32m----> 1\u001b[1;33m \u001b[0mPATH_DATASET\u001b[0m\u001b[1;33m.\u001b[0m\u001b[0mhead\u001b[0m\u001b[1;33m(\u001b[0m\u001b[1;36m667\u001b[0m\u001b[1;33m)\u001b[0m\u001b[1;33m\u001b[0m\u001b[1;33m\u001b[0m\u001b[0m\n\u001b[0m",
      "\u001b[1;31mAttributeError\u001b[0m: 'str' object has no attribute 'head'"
     ]
    }
   ],
   "source": []
  },
  {
   "cell_type": "code",
   "execution_count": null,
   "id": "054701cb",
   "metadata": {},
   "outputs": [],
   "source": []
  }
 ],
 "metadata": {
  "kernelspec": {
   "display_name": "Python 3 (ipykernel)",
   "language": "python",
   "name": "python3"
  },
  "language_info": {
   "codemirror_mode": {
    "name": "ipython",
    "version": 3
   },
   "file_extension": ".py",
   "mimetype": "text/x-python",
   "name": "python",
   "nbconvert_exporter": "python",
   "pygments_lexer": "ipython3",
   "version": "3.9.7"
  }
 },
 "nbformat": 4,
 "nbformat_minor": 5
}
